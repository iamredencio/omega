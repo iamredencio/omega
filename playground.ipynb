{
 "cells": [
  {
   "cell_type": "code",
   "execution_count": 134,
   "metadata": {},
   "outputs": [
    {
     "data": {
      "text/plain": [
       "{'Root': [{'Node0_3': [{'Node0_2': [{'Node0_1': [{}]}],\n",
       "     'Node1_2': [{'Node0_1': [{}]}]}],\n",
       "   'Node1_3': [{'Node0_2': [{'Node0_1': [{}]}],\n",
       "     'Node1_2': [{'Node0_1': [{}]}]}],\n",
       "   'Node2_3': [{'Node0_2': [{'Node0_1': [{}]}],\n",
       "     'Node1_2': [{'Node0_1': [{}]}]}]}]}"
      ]
     },
     "execution_count": 134,
     "metadata": {},
     "output_type": "execute_result"
    }
   ],
   "source": [
    "def buildtree(root = {}, num_nodes=0):\n",
    "    \n",
    "    root.setdefault('Root', []).append(buildchild(root, num_nodes))\n",
    "        \n",
    "    return root\n",
    "\n",
    "tree = buildtree({}, 3)\n",
    "tree"
   ]
  },
  {
   "cell_type": "code",
   "execution_count": 135,
   "metadata": {},
   "outputs": [],
   "source": [
    "def buildchild(root, num):\n",
    "    child = {}\n",
    "    \n",
    "    for i in range(num):\n",
    "        child.setdefault('Node'+str(i) + '_'+str(num), []).append(buildchild(root, num-1))\n",
    "        \n",
    "    return child"
   ]
  },
  {
   "cell_type": "code",
   "execution_count": 136,
   "metadata": {},
   "outputs": [],
   "source": [
    "def readtree(tree):\n",
    "    \n",
    "    for node in tree:\n",
    "        printtree(tree[node])\n",
    "        print(node)"
   ]
  },
  {
   "cell_type": "code",
   "execution_count": 137,
   "metadata": {},
   "outputs": [],
   "source": [
    "def printtree(node):\n",
    "    \n",
    "    if node == {}:\n",
    "        return True\n",
    "    \n",
    "    for n in node:\n",
    "        print('Node:', n)\n",
    "        readtree(n)\n",
    "        \n",
    "    return True"
   ]
  },
  {
   "cell_type": "code",
   "execution_count": 138,
   "metadata": {},
   "outputs": [
    {
     "name": "stdout",
     "output_type": "stream",
     "text": [
      "Node: {'Node0_3': [{'Node0_2': [{'Node0_1': [{}]}], 'Node1_2': [{'Node0_1': [{}]}]}], 'Node1_3': [{'Node0_2': [{'Node0_1': [{}]}], 'Node1_2': [{'Node0_1': [{}]}]}], 'Node2_3': [{'Node0_2': [{'Node0_1': [{}]}], 'Node1_2': [{'Node0_1': [{}]}]}]}\n",
      "Node: {'Node0_2': [{'Node0_1': [{}]}], 'Node1_2': [{'Node0_1': [{}]}]}\n",
      "Node: {'Node0_1': [{}]}\n",
      "Node: {}\n",
      "Node0_1\n",
      "Node0_2\n",
      "Node: {'Node0_1': [{}]}\n",
      "Node: {}\n",
      "Node0_1\n",
      "Node1_2\n",
      "Node0_3\n",
      "Node: {'Node0_2': [{'Node0_1': [{}]}], 'Node1_2': [{'Node0_1': [{}]}]}\n",
      "Node: {'Node0_1': [{}]}\n",
      "Node: {}\n",
      "Node0_1\n",
      "Node0_2\n",
      "Node: {'Node0_1': [{}]}\n",
      "Node: {}\n",
      "Node0_1\n",
      "Node1_2\n",
      "Node1_3\n",
      "Node: {'Node0_2': [{'Node0_1': [{}]}], 'Node1_2': [{'Node0_1': [{}]}]}\n",
      "Node: {'Node0_1': [{}]}\n",
      "Node: {}\n",
      "Node0_1\n",
      "Node0_2\n",
      "Node: {'Node0_1': [{}]}\n",
      "Node: {}\n",
      "Node0_1\n",
      "Node1_2\n",
      "Node2_3\n",
      "Root\n"
     ]
    }
   ],
   "source": [
    "readtree(tree)"
   ]
  },
  {
   "cell_type": "code",
   "execution_count": 139,
   "metadata": {},
   "outputs": [],
   "source": [
    "d =    {'one':  {'two':{'three':{}}, 'two1':{}}}"
   ]
  },
  {
   "cell_type": "code",
   "execution_count": 165,
   "metadata": {},
   "outputs": [],
   "source": [
    "c = 0\n",
    "\n",
    "def loop(d, c):\n",
    "    for n in d:\n",
    "        print(n, c, d[n])\n",
    "        \n",
    "        if type(d[n]) != list:\n",
    "            if d[n] != {}:\n",
    "                loop(d[n], c+1)\n",
    "            elif c < 3:\n",
    "                d[n].setdefault('four', []).append(3)\n",
    "\n",
    "            "
   ]
  },
  {
   "cell_type": "code",
   "execution_count": 166,
   "metadata": {},
   "outputs": [
    {
     "name": "stdout",
     "output_type": "stream",
     "text": [
      "one 0 {'two': {'three': {'four': [3]}}, 'two1': {'four': [3]}}\n",
      "two 1 {'three': {'four': [3]}}\n",
      "three 2 {'four': [3]}\n",
      "four 3 [3]\n",
      "two1 1 {'four': [3]}\n",
      "four 2 [3]\n"
     ]
    }
   ],
   "source": [
    "loop(d, c)"
   ]
  },
  {
   "cell_type": "code",
   "execution_count": 170,
   "metadata": {},
   "outputs": [
    {
     "ename": "AttributeError",
     "evalue": "'list' object has no attribute 'values'",
     "output_type": "error",
     "traceback": [
      "\u001b[0;31m---------------------------------------------------------------------------\u001b[0m",
      "\u001b[0;31mAttributeError\u001b[0m                            Traceback (most recent call last)",
      "\u001b[0;32m<ipython-input-170-3e0a43fe59fd>\u001b[0m in \u001b[0;36m<module>\u001b[0;34m()\u001b[0m\n\u001b[1;32m      1\u001b[0m \u001b[0mkl\u001b[0m \u001b[0;34m=\u001b[0m \u001b[0;34m{\u001b[0m\u001b[0;34m'k'\u001b[0m\u001b[0;34m:\u001b[0m\u001b[0;34m[\u001b[0m\u001b[0;34m''\u001b[0m\u001b[0;34m,\u001b[0m \u001b[0;34m''\u001b[0m\u001b[0;34m,\u001b[0m \u001b[0;34m'l'\u001b[0m\u001b[0;34m]\u001b[0m\u001b[0;34m}\u001b[0m\u001b[0;34m\u001b[0m\u001b[0m\n\u001b[0;32m----> 2\u001b[0;31m \u001b[0mlen\u001b[0m\u001b[0;34m(\u001b[0m\u001b[0mkl\u001b[0m\u001b[0;34m[\u001b[0m\u001b[0;34m'k'\u001b[0m\u001b[0;34m]\u001b[0m\u001b[0;34m.\u001b[0m\u001b[0mvalues\u001b[0m\u001b[0;34m(\u001b[0m\u001b[0;34m)\u001b[0m\u001b[0;34m)\u001b[0m\u001b[0;34m\u001b[0m\u001b[0m\n\u001b[0m",
      "\u001b[0;31mAttributeError\u001b[0m: 'list' object has no attribute 'values'"
     ]
    }
   ],
   "source": [
    "kl = {'k':['', '', 'l']}\n",
    "len(kl['k'].values())"
   ]
  },
  {
   "cell_type": "code",
   "execution_count": null,
   "metadata": {},
   "outputs": [],
   "source": []
  }
 ],
 "metadata": {
  "kernelspec": {
   "display_name": "Python 3",
   "language": "python",
   "name": "python3"
  },
  "language_info": {
   "codemirror_mode": {
    "name": "ipython",
    "version": 3
   },
   "file_extension": ".py",
   "mimetype": "text/x-python",
   "name": "python",
   "nbconvert_exporter": "python",
   "pygments_lexer": "ipython3",
   "version": "3.6.4"
  }
 },
 "nbformat": 4,
 "nbformat_minor": 2
}
