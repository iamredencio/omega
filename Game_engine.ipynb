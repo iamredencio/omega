{
 "cells": [
  {
   "cell_type": "code",
   "execution_count": 4,
   "metadata": {},
   "outputs": [],
   "source": [
    "# Generated code -- http://www.redblobgames.com/grids/hexagons/\n",
    "import collections\n",
    "import math, random"
   ]
  },
  {
   "cell_type": "code",
   "execution_count": 38,
   "metadata": {},
   "outputs": [
    {
     "data": {
      "text/plain": [
       "14024079292171647447"
      ]
     },
     "execution_count": 38,
     "metadata": {},
     "output_type": "execute_result"
    }
   ],
   "source": [
    "random.seed(1356) # set seed so that each play is the same"
   ]
  },
  {
   "cell_type": "code",
   "execution_count": 5,
   "metadata": {},
   "outputs": [],
   "source": [
    "def hex_add(a, b):\n",
    "    return Hex[a[0] + b[0], a[1] + b[1], a[2] + b[2]]\n",
    "\n",
    "def hex_subtract(a, b):\n",
    "    return Hex[a[0] - b[0], a[1] - b[1], a[2] - b[2]]\n",
    "\n",
    "def hex_neighbor(hex, direction):\n",
    "    return hex_add(hex, hex_directions[direction])\n",
    "\n",
    "def hex_diagonal_neighbor(hex, direction):\n",
    "    return hex_add(hex, hex_diagonals[direction])\n",
    "\n",
    "def hex_length(hex):\n",
    "    return (abs(hex[0]) + abs(hex[1]) + abs(hex[2])) // 2\n",
    "\n",
    "def hex_distance(a, b):\n",
    "    return hex_length(hex_subtract(a, b))"
   ]
  },
  {
   "cell_type": "code",
   "execution_count": 6,
   "metadata": {},
   "outputs": [],
   "source": [
    "hex_directions = [(1, 0, -1), (1, -1, 0), (0, -1, 1), (-1, 0, 1), (-1, 1, 0), (0, 1, -1)]\n",
    "hex_diagonals = [(2, -1, -1), (1, -2, 1), (-1, -1, 2), (-2, 1, 1), (-1, 2, -1), (1, 1, -2)]"
   ]
  },
  {
   "cell_type": "code",
   "execution_count": 142,
   "metadata": {},
   "outputs": [
    {
     "data": {
      "text/plain": [
       "[14024079292171647447, 15846705576740111]"
      ]
     },
     "execution_count": 142,
     "metadata": {},
     "output_type": "execute_result"
    }
   ],
   "source": [
    "random.seed(1356)\n",
    "side = [random.getrandbits(64), random.getrandbits(64)]#[b, w, empty] # side to move ['b', 'w']#\n",
    "\n",
    "N = 3 # Number of hexes side\n",
    "p = 2 # number of players\n",
    "\n",
    "blackstones = 136\n",
    "whitestones = 136\n",
    "\n",
    "#Game ends if number of free tiles < 4\n",
    "total_nr_stones = blackstones + whitestones <4\n",
    "side"
   ]
  },
  {
   "cell_type": "code",
   "execution_count": 176,
   "metadata": {},
   "outputs": [
    {
     "data": {
      "text/plain": [
       "{(-3, 0, 3): '',\n",
       " (-3, 1, 2): '',\n",
       " (-3, 2, 1): '',\n",
       " (-2, -1, 3): '',\n",
       " (-2, 0, 2): '',\n",
       " (-2, 1, 1): '',\n",
       " (-2, 2, 0): '',\n",
       " (-1, -2, 3): '',\n",
       " (-1, -1, 2): '',\n",
       " (-1, 0, 1): '',\n",
       " (-1, 1, 0): '',\n",
       " (-1, 2, -1): '',\n",
       " (0, -3, 3): '',\n",
       " (0, -2, 2): '',\n",
       " (0, -1, 1): '',\n",
       " (0, 0, 0): '',\n",
       " (0, 1, -1): '',\n",
       " (0, 2, -2): '',\n",
       " (1, -3, 2): '',\n",
       " (1, -2, 1): '',\n",
       " (1, -1, 0): '',\n",
       " (1, 0, -1): '',\n",
       " (1, 1, -2): '',\n",
       " (2, -3, 1): '',\n",
       " (2, -2, 0): '',\n",
       " (2, -1, -1): '',\n",
       " (2, 0, -2): ''}"
      ]
     },
     "execution_count": 176,
     "metadata": {},
     "output_type": "execute_result"
    }
   ],
   "source": [
    "def initializeBoard():\n",
    "    Hex = {}\n",
    "\n",
    "    for x in range(-N, N):\n",
    "        for y in range(max(-N, -x-N) , min(+N, -x+N)):\n",
    "            rnd = random.randint(0,1)\n",
    "            z = -x-y\n",
    "            Hex[(x, y, z)] = ''#side[rnd]\n",
    "    return Hex\n",
    "\n",
    "board = initializeBoard()\n",
    "board"
   ]
  },
  {
   "cell_type": "code",
   "execution_count": 87,
   "metadata": {},
   "outputs": [],
   "source": [
    "def allWhiteBoardZobrist():\n",
    "    whitezobristboard = {}\n",
    "\n",
    "    for x in range(-N, N):\n",
    "        for y in range(max(-N, -x-N) , min(+N, -x+N)):\n",
    "            rnd = random.getrandbits(64)\n",
    "            z = -x-y\n",
    "            whitezobristboard[(x, y, z)] = rnd\n",
    "    return whitezobristboard\n",
    "\n",
    "# wzobristboard"
   ]
  },
  {
   "cell_type": "code",
   "execution_count": 86,
   "metadata": {},
   "outputs": [],
   "source": [
    "def allBlackBoardZobrist():\n",
    "    blackzobristboard = {}\n",
    "\n",
    "    for x in range(-N, N):\n",
    "        for y in range(max(-N, -x-N) , min(+N, -x+N)):\n",
    "            rnd = random.getrandbits(64)\n",
    "            z = -x-y\n",
    "            blackzobristboard[(x, y, z)] = rnd\n",
    "    return blackzobristboard\n",
    "\n",
    "\n",
    "# bzobristboard"
   ]
  },
  {
   "cell_type": "code",
   "execution_count": 85,
   "metadata": {},
   "outputs": [],
   "source": [
    "def initializeBoardZobrist():\n",
    "    Hex = {}\n",
    "\n",
    "    for x in range(-N, N):\n",
    "        for y in range(max(-N, -x-N) , min(+N, -x+N)):\n",
    "            rnd = random.getrandbits(64)\n",
    "            z = -x-y\n",
    "            Hex[(x, y, z)] = rnd\n",
    "    return Hex\n",
    "\n",
    "\n",
    "# zboard"
   ]
  },
  {
   "cell_type": "code",
   "execution_count": 140,
   "metadata": {},
   "outputs": [
    {
     "data": {
      "text/plain": [
       "7587650002905401167"
      ]
     },
     "execution_count": 140,
     "metadata": {},
     "output_type": "execute_result"
    }
   ],
   "source": [
    "def boardToZobrist(board, zboard, wzobristboard, bzobristboard):\n",
    "    random.seed(1356)\n",
    "    zobristkey = random.getrandbits(64)\n",
    "    \n",
    "    for cel in board:\n",
    "        if board[cel] == 14024079292171647447:\n",
    "            zobristkey ^= (bzobristboard[cel] ^ zboard[cel])\n",
    "        else:\n",
    "            zobristkey ^= (wzobristboard[cel] ^ zboard[cel])\n",
    "        \n",
    "    \n",
    "    return zobristkey\n",
    "\n",
    "boardToZobrist(board, zboard, wzobristboard, bzobristboard)"
   ]
  },
  {
   "cell_type": "code",
   "execution_count": 129,
   "metadata": {},
   "outputs": [],
   "source": [
    "board = initializeBoard() # board with assigned black and white pieces\n",
    "zboard = initializeBoardZobrist() # initial board, without any pieces\n",
    "\n",
    "wzobristboard = allWhiteBoardZobrist() # all hexes filled with black pieces\n",
    "bzobristboard = allBlackBoardZobrist() # all hexes filled with white pieces"
   ]
  },
  {
   "cell_type": "code",
   "execution_count": 78,
   "metadata": {},
   "outputs": [],
   "source": [
    "def find_scores(board, side):   \n",
    "    tot = {}\n",
    "    \n",
    "    listOfkeys = [key for (key, value) in board.items() if value == side]\n",
    "    for lok  in listOfkeys:\n",
    "        tot[lok] = side\n",
    "        \n",
    "    return tot"
   ]
  },
  {
   "cell_type": "code",
   "execution_count": 79,
   "metadata": {},
   "outputs": [],
   "source": [
    "# Form groups\n",
    "# score = find_scores(board, 'w')\n",
    "def findGroups(score, board):\n",
    "    new_list = []\n",
    "    group = {}\n",
    "    group_state = {}\n",
    "    group_count = 0\n",
    "\n",
    "    for tile in score:\n",
    "        counter = 0\n",
    "        group[group_count] = 0\n",
    "        if not tile in new_list:\n",
    "            for direction in hex_directions:\n",
    "                new_tile = tuple(map(sum, zip(tile, direction)))\n",
    "                if new_tile in score:\n",
    "                    new_list += [new_tile] # Already seen in group\n",
    "\n",
    "                if score[tile] == board[direction]:\n",
    "                    group[group_count] += counter\n",
    "                    group_state.setdefault(tile, []).append(new_tile)\n",
    "\n",
    "                counter += 1\n",
    "        group_count += 1\n",
    "    return group_state"
   ]
  },
  {
   "cell_type": "code",
   "execution_count": 80,
   "metadata": {},
   "outputs": [],
   "source": [
    "# Check if lists can be grouped by at least 1 common member.\n",
    "def Intersection(lst1, lst2): \n",
    "    return set(lst1).intersection(lst2) "
   ]
  },
  {
   "cell_type": "code",
   "execution_count": 81,
   "metadata": {},
   "outputs": [],
   "source": [
    "# Count total of each group\n",
    "# group = findGroups(score, board)\n",
    "\n",
    "def totalgroups(group):\n",
    "    count_list = []\n",
    "\n",
    "    for tile in group:\n",
    "        for tile2 in group:\n",
    "            if tile != tile2:\n",
    "                intersect = list(Intersection(group[tile], group[tile2]))\n",
    "\n",
    "                if len(intersect) != 0:\n",
    "                    count_list += [len(list(set(group[tile] + group[tile2])))]\n",
    "    return count_list\n",
    "\n",
    "\n",
    "# print(totalgroups(group))"
   ]
  },
  {
   "cell_type": "code",
   "execution_count": 89,
   "metadata": {},
   "outputs": [
    {
     "name": "stdout",
     "output_type": "stream",
     "text": [
      "[3, 3] [7, 7, 7, 7]\n"
     ]
    }
   ],
   "source": [
    "score = find_scores(board, 14024079292171647447) #score of player1\n",
    "score2 = find_scores(board, 15846705576740111) #score of player2\n",
    "\n",
    "group = findGroups(score, board)\n",
    "group2 = findGroups(score2, board)\n",
    "print(totalgroups(group), totalgroups(group2))"
   ]
  },
  {
   "cell_type": "code",
   "execution_count": 25,
   "metadata": {},
   "outputs": [
    {
     "data": {
      "text/plain": [
       "9"
      ]
     },
     "execution_count": 25,
     "metadata": {},
     "output_type": "execute_result"
    }
   ],
   "source": [
    "# multiply all group counts of the same color for final game score\n",
    "from functools import reduce\n",
    "\n",
    "count_list = totalgroups(group)\n",
    "count_list2 = totalgroups(group2)\n",
    "\n",
    "def multiplyall(count_list):\n",
    "    return reduce(lambda x, y: x*y, count_list)\n",
    "\n",
    "game_total = multiplyall(count_list)\n",
    "# game_total2 = multiplyall(count_list2)\n",
    "game_total#, game_total2"
   ]
  },
  {
   "cell_type": "code",
   "execution_count": 110,
   "metadata": {},
   "outputs": [],
   "source": [
    "# Put pieces on board\n",
    "def makeMove(board, move, color):\n",
    "    x, y = move\n",
    "    board[(x, y, -x-y)] = color\n",
    "        \n",
    "    return board"
   ]
  },
  {
   "cell_type": "code",
   "execution_count": 111,
   "metadata": {},
   "outputs": [],
   "source": [
    "# Put pieces on board\n",
    "def unmakeMove(board, move, color):\n",
    "    x, y = move\n",
    "    board[(x, y, -x-y)] = color\n",
    "        \n",
    "    return board"
   ]
  },
  {
   "cell_type": "code",
   "execution_count": 120,
   "metadata": {},
   "outputs": [],
   "source": [
    "def isEmpty(board, position):\n",
    "    if position in board:\n",
    "        return len(board[position]) == 0\n",
    "    else:\n",
    "        return False"
   ]
  },
  {
   "cell_type": "code",
   "execution_count": 32,
   "metadata": {},
   "outputs": [
    {
     "data": {
      "text/plain": [
       "-1"
      ]
     },
     "execution_count": 32,
     "metadata": {},
     "output_type": "execute_result"
    }
   ],
   "source": [
    "~(len(board[(0,0,0)]) < 0)"
   ]
  },
  {
   "cell_type": "code",
   "execution_count": 33,
   "metadata": {},
   "outputs": [],
   "source": [
    "#Check if a move is valid\n",
    "def validMove(x, y):\n",
    "    \n",
    "    #Check if there is a piece on the location\n",
    "    if not isEmpty(board, (x, y, -x-y)):\n",
    "        return False\n",
    "    \n",
    "    #Check if the piece is on the board\n",
    "    if abs(x) > N or abs(y) > N:\n",
    "        return False\n",
    "    \n",
    "    return True"
   ]
  },
  {
   "cell_type": "code",
   "execution_count": 180,
   "metadata": {},
   "outputs": [
    {
     "name": "stdout",
     "output_type": "stream",
     "text": [
      "Time:  0.0016968250274658203\n"
     ]
    },
    {
     "data": {
      "text/plain": [
       "{2819087354705866244: [[10726909059677089085,\n",
       "   {(-3, 0, 3): '',\n",
       "    (-3, 1, 2): '',\n",
       "    (-3, 2, 1): '',\n",
       "    (-2, -1, 3): '',\n",
       "    (-2, 0, 2): '',\n",
       "    (-2, 1, 1): '',\n",
       "    (-2, 2, 0): '',\n",
       "    (-1, -2, 3): '',\n",
       "    (-1, -1, 2): '',\n",
       "    (-1, 0, 1): '',\n",
       "    (-1, 1, 0): '',\n",
       "    (-1, 2, -1): 'w',\n",
       "    (0, -3, 3): '',\n",
       "    (0, -2, 2): '',\n",
       "    (0, -1, 1): '',\n",
       "    (0, 0, 0): '',\n",
       "    (0, 1, -1): '',\n",
       "    (0, 2, -2): '',\n",
       "    (1, -3, 2): '',\n",
       "    (1, -2, 1): '',\n",
       "    (1, -1, 0): '',\n",
       "    (1, 0, -1): '',\n",
       "    (1, 1, -2): '',\n",
       "    (2, -3, 1): 'b',\n",
       "    (2, -2, 0): '',\n",
       "    (2, -1, -1): '',\n",
       "    (2, 0, -2): ''},\n",
       "   1,\n",
       "   10],\n",
       "  [17164897749536883520,\n",
       "   {(-3, 0, 3): '',\n",
       "    (-3, 1, 2): '',\n",
       "    (-3, 2, 1): '',\n",
       "    (-2, -1, 3): 'w',\n",
       "    (-2, 0, 2): '',\n",
       "    (-2, 1, 1): '',\n",
       "    (-2, 2, 0): '',\n",
       "    (-1, -2, 3): '',\n",
       "    (-1, -1, 2): '',\n",
       "    (-1, 0, 1): '',\n",
       "    (-1, 1, 0): '',\n",
       "    (-1, 2, -1): '',\n",
       "    (0, -3, 3): '',\n",
       "    (0, -2, 2): '',\n",
       "    (0, -1, 1): '',\n",
       "    (0, 0, 0): '',\n",
       "    (0, 1, -1): '',\n",
       "    (0, 2, -2): '',\n",
       "    (1, -3, 2): '',\n",
       "    (1, -2, 1): '',\n",
       "    (1, -1, 0): '',\n",
       "    (1, 0, -1): '',\n",
       "    (1, 1, -2): '',\n",
       "    (2, -3, 1): '',\n",
       "    (2, -2, 0): '',\n",
       "    (2, -1, -1): 'b',\n",
       "    (2, 0, -2): ''},\n",
       "   1,\n",
       "   10],\n",
       "  [1323360907048803061,\n",
       "   {(-3, 0, 3): '',\n",
       "    (-3, 1, 2): '',\n",
       "    (-3, 2, 1): '',\n",
       "    (-2, -1, 3): '',\n",
       "    (-2, 0, 2): '',\n",
       "    (-2, 1, 1): 'w',\n",
       "    (-2, 2, 0): '',\n",
       "    (-1, -2, 3): '',\n",
       "    (-1, -1, 2): '',\n",
       "    (-1, 0, 1): '',\n",
       "    (-1, 1, 0): '',\n",
       "    (-1, 2, -1): '',\n",
       "    (0, -3, 3): '',\n",
       "    (0, -2, 2): '',\n",
       "    (0, -1, 1): '',\n",
       "    (0, 0, 0): '',\n",
       "    (0, 1, -1): '',\n",
       "    (0, 2, -2): '',\n",
       "    (1, -3, 2): 'b',\n",
       "    (1, -2, 1): '',\n",
       "    (1, -1, 0): '',\n",
       "    (1, 0, -1): '',\n",
       "    (1, 1, -2): '',\n",
       "    (2, -3, 1): '',\n",
       "    (2, -2, 0): '',\n",
       "    (2, -1, -1): '',\n",
       "    (2, 0, -2): ''},\n",
       "   1,\n",
       "   10]]}"
      ]
     },
     "execution_count": 180,
     "metadata": {},
     "output_type": "execute_result"
    }
   ],
   "source": [
    "#Creating entire the game tree for the play\n",
    "from copy import deepcopy\n",
    "import time\n",
    "def buildGameTree0(board, depth, samples):\n",
    "    depth += 1\n",
    "    gametree = {}\n",
    "    tempscore = 10\n",
    "    \n",
    "#     board0 = board # board with assigned black and white pieces\n",
    "    zboard = initializeBoardZobrist() # initial board, without any pieces\n",
    "\n",
    "    wzobristboard = allWhiteBoardZobrist() # all hexes filled with black pieces\n",
    "    bzobristboard = allBlackBoardZobrist() # all hexes filled with white pieces\n",
    "\n",
    "    zidentity0 = boardToZobrist(board, zboard, wzobristboard, bzobristboard) # current root/parent\n",
    "    \n",
    "    visited = [] # Make sure you haven't done this move yet\n",
    "    for sample in range(samples):\n",
    "        board2 = deepcopy(board) # make sure that you copy the board from the parent!!\n",
    "\n",
    "        #Only make a move when a move is valid\n",
    "        valid = False\n",
    "        while not valid:\n",
    "            x, y = random.randint(-N,N), random.randint(-N,N)\n",
    "            if not (x, y, -x-y) in visited:\n",
    "                valid = validMove(x, y)\n",
    "        makeMove(board2, [x, y], 'b')\n",
    "        visited += [(x, y, -x-y)]\n",
    "\n",
    "        #Only make a move when a move is valid 2\n",
    "        valid = False\n",
    "        while not valid:\n",
    "            x2, y2 = random.randint(-N,N), random.randint(-N,N)\n",
    "            if not (x2, y2, -x2-y2) in visited:\n",
    "                valid = validMove(x2, y2)\n",
    "        makeMove(board2, [x2, y2], 'w')\n",
    "        visited += [(x2, y2, -x2-y2)]\n",
    "\n",
    "#         board2 = initializeBoard() # board with assigned black and white pieces\n",
    "        zboard = initializeBoardZobrist() # initial board, without any pieces\n",
    "\n",
    "        wzobristboard = allWhiteBoardZobrist() # all hexes filled with black pieces\n",
    "        bzobristboard = allBlackBoardZobrist() # all hexes filled with white pieces\n",
    "\n",
    "        zidentity = boardToZobrist(board2, zboard, wzobristboard, bzobristboard)\n",
    "        gametree.setdefault(zidentity0, []).append([zidentity, board2, depth, tempscore]) # store full board + temporary score + horizon effect?\n",
    "                     \n",
    "    return gametree\n",
    "\n",
    "start = time.time()\n",
    "g = buildGameTree0(board, 0, 3)#13)\n",
    "end = time.time()\n",
    "print('Time: ', end - start)\n",
    "g"
   ]
  },
  {
   "cell_type": "code",
   "execution_count": 178,
   "metadata": {},
   "outputs": [
    {
     "name": "stdout",
     "output_type": "stream",
     "text": [
      "5474507440992383054 [[729939849913862877, {(-3, 0, 3): '', (-3, 1, 2): '', (-3, 2, 1): '', (-2, -1, 3): '', (-2, 0, 2): '', (-2, 1, 1): '', (-2, 2, 0): '', (-1, -2, 3): '', (-1, -1, 2): '', (-1, 0, 1): '', (-1, 1, 0): '', (-1, 2, -1): '', (0, -3, 3): '', (0, -2, 2): '', (0, -1, 1): '', (0, 0, 0): '', (0, 1, -1): '', (0, 2, -2): '', (1, -3, 2): '', (1, -2, 1): '', (1, -1, 0): '', (1, 0, -1): '', (1, 1, -2): '', (2, -3, 1): '', (2, -2, 0): '', (2, -1, -1): '', (2, 0, -2): ''}, 1, 10], [15872109129810816640, {(-3, 0, 3): '', (-3, 1, 2): '', (-3, 2, 1): '', (-2, -1, 3): '', (-2, 0, 2): '', (-2, 1, 1): '', (-2, 2, 0): '', (-1, -2, 3): '', (-1, -1, 2): '', (-1, 0, 1): '', (-1, 1, 0): '', (-1, 2, -1): '', (0, -3, 3): '', (0, -2, 2): '', (0, -1, 1): '', (0, 0, 0): '', (0, 1, -1): '', (0, 2, -2): '', (1, -3, 2): '', (1, -2, 1): '', (1, -1, 0): '', (1, 0, -1): '', (1, 1, -2): '', (2, -3, 1): '', (2, -2, 0): '', (2, -1, -1): '', (2, 0, -2): ''}, 1, 10], [16846244176120008955, {(-3, 0, 3): '', (-3, 1, 2): '', (-3, 2, 1): '', (-2, -1, 3): '', (-2, 0, 2): '', (-2, 1, 1): '', (-2, 2, 0): '', (-1, -2, 3): '', (-1, -1, 2): '', (-1, 0, 1): '', (-1, 1, 0): '', (-1, 2, -1): '', (0, -3, 3): '', (0, -2, 2): '', (0, -1, 1): '', (0, 0, 0): '', (0, 1, -1): '', (0, 2, -2): '', (1, -3, 2): '', (1, -2, 1): '', (1, -1, 0): '', (1, 0, -1): '', (1, 1, -2): '', (2, -3, 1): '', (2, -2, 0): '', (2, -1, -1): '', (2, 0, -2): ''}, 1, 10]]\n"
     ]
    }
   ],
   "source": [
    "# Build the next layers\n",
    "totalTree = {}\n",
    "for board_zobrist in g:\n",
    "    print(board_zobrist, g[board_zobrist])# [identity, tree, depth, score]\n",
    "    break\n",
    "#     newdepth = buildGameTree(g[board_zobrist][1], depth, samples)\n",
    "#     totalTree.setdefault(depth+1, []).append(newdepth)"
   ]
  },
  {
   "cell_type": "code",
   "execution_count": 94,
   "metadata": {},
   "outputs": [
    {
     "data": {
      "text/plain": [
       "{'hi': {'do': [{'z': 'l'}, 9, 8]}}"
      ]
     },
     "execution_count": 94,
     "metadata": {},
     "output_type": "execute_result"
    }
   ],
   "source": [
    "gametree['hi']['do'] = [{'z': 'l'} ,9,8]\n",
    "gametree"
   ]
  },
  {
   "cell_type": "code",
   "execution_count": null,
   "metadata": {},
   "outputs": [],
   "source": [
    "def getComputerMove(board, computerLetter):\n",
    "    # Given a board and the computer's letter, determine where to move and return that move.\n",
    "    if computerLetter == 'b':\n",
    "        playerLetter = 'w'\n",
    "    else:\n",
    "        playerLetter = 'b'"
   ]
  },
  {
   "cell_type": "markdown",
   "metadata": {},
   "source": [
    "# Checking Whether the Computer Can Win in One Move"
   ]
  },
  {
   "cell_type": "code",
   "execution_count": null,
   "metadata": {},
   "outputs": [],
   "source": [
    "# Here is the algorithm for our Tic-Tac-Toe AI:\n",
    "# First, check if we can win in the next move.\n",
    "for i in range(1, 10):\n",
    "    boardCopy = getBoardCopy(board)\n",
    "    if isSpaceFree(boardCopy, i):\n",
    "        makeMove(boardCopy, computerLetter, i)\n",
    "    if isWinner(boardCopy, computerLetter):\n",
    "        return i"
   ]
  },
  {
   "cell_type": "markdown",
   "metadata": {},
   "source": [
    "# Checking Whether the Player Can Win in One Move"
   ]
  },
  {
   "cell_type": "code",
   "execution_count": null,
   "metadata": {},
   "outputs": [],
   "source": [
    "# Check if the player could win on their next move and block them.\n",
    "for i in range(1, 10):\n",
    "    boardCopy = getBoardCopy(board)\n",
    "    if isSpaceFree(boardCopy, i):\n",
    "        makeMove(boardCopy, playerLetter, i)\n",
    "    if isWinner(boardCopy, playerLetter):\n",
    "        return i"
   ]
  },
  {
   "cell_type": "code",
   "execution_count": null,
   "metadata": {},
   "outputs": [],
   "source": [
    "#Checking the Corner, Center, and Side Spaces (in That Order)"
   ]
  },
  {
   "cell_type": "code",
   "execution_count": null,
   "metadata": {},
   "outputs": [],
   "source": [
    "# Try to take one of the corners, if they are free.\n",
    "move = chooseRandomMoveFromList(board, [1, 3, 7, 9])\n",
    "if move != None:\n",
    "    return move"
   ]
  },
  {
   "cell_type": "code",
   "execution_count": null,
   "metadata": {},
   "outputs": [],
   "source": [
    "# If all the corner spaces are taken, the chooseRandomMoveFromList() function returns None, and the execution moves on to line 113:\n",
    "# Try to take the center, if it is free.\n",
    "if isSpaceFree(board, 5):\n",
    "    return 5"
   ]
  },
  {
   "cell_type": "code",
   "execution_count": null,
   "metadata": {},
   "outputs": [],
   "source": [
    "#If none of the corners is available, line 114 moves on the center space if it is free. If the center space isn’t free, the execution moves on to line 117:\n",
    "# Move on one of the sides.\n",
    "return chooseRandomMoveFromList(board, [2, 4, 6, 8])"
   ]
  },
  {
   "cell_type": "markdown",
   "metadata": {},
   "source": [
    "# Checking Whether the Board Is Full"
   ]
  },
  {
   "cell_type": "code",
   "execution_count": null,
   "metadata": {},
   "outputs": [],
   "source": [
    "def isBoardFull(board):\n",
    "# Return True if every space on the board has been taken. Otherwise, return False.\n",
    "for i in range(1, 10):\n",
    "    if isSpaceFree(board, i):\n",
    "        return False\n",
    "    return True"
   ]
  },
  {
   "cell_type": "markdown",
   "metadata": {},
   "source": [
    "# The Game Loop"
   ]
  },
  {
   "cell_type": "code",
   "execution_count": null,
   "metadata": {},
   "outputs": [],
   "source": [
    "print('Welcome to Tic-Tac-Toe!')"
   ]
  },
  {
   "cell_type": "code",
   "execution_count": null,
   "metadata": {},
   "outputs": [],
   "source": [
    "Hex"
   ]
  },
  {
   "cell_type": "code",
   "execution_count": null,
   "metadata": {},
   "outputs": [],
   "source": [
    "# Choosing the Player’s Mark and Who Goes First\n",
    "playerLetter, computerLetter = inputPlayerLetter()\n",
    "turn = whoGoesFirst()\n",
    "print('The ' + turn + ' will go first.')\n",
    "gameIsPlaying = True"
   ]
  },
  {
   "cell_type": "code",
   "execution_count": null,
   "metadata": {},
   "outputs": [],
   "source": [
    "while gameIsPlaying:\n",
    "    if turn == 'player':\n",
    "        # Player's turn\n",
    "        drawBoard(theBoard)\n",
    "        move = getPlayerMove(theBoard)\n",
    "        makeMove(theBoard, playerLetter, move)\n",
    "\n",
    "    if isWinner(theBoard, playerLetter):\n",
    "        drawBoard(theBoard)\n",
    "        print('Hooray! You have won the game!')\n",
    "        gameIsPlaying = False\n",
    "\n",
    "    else:\n",
    "        if isBoardFull(theBoard):\n",
    "            drawBoard(theBoard)\n",
    "            print('The game is a tie!')\n",
    "            break\n",
    "\n",
    "        else:\n",
    "            turn = 'computer'\n",
    "\n",
    "    else:\n",
    "        # Computer's turn\n",
    "        move = getComputerMove(theBoard, computerLetter)\n",
    "        makeMove(theBoard, computerLetter, move)\n",
    "        if isWinner(theBoard, computerLetter):\n",
    "            drawBoard(theBoard)\n",
    "            print('The computer has beaten you! You lose.')\n",
    "            gameIsPlaying = False\n",
    "        else:\n",
    "            if isBoardFull(theBoard):\n",
    "                drawBoard(theBoard)\n",
    "                print('The game is a tie!')\n",
    "                break\n",
    "            else:\n",
    "                turn = 'player'"
   ]
  },
  {
   "cell_type": "markdown",
   "metadata": {},
   "source": [
    "# Asking the Player to Play Again"
   ]
  },
  {
   "cell_type": "code",
   "execution_count": null,
   "metadata": {},
   "outputs": [],
   "source": [
    "print('Do you want to play again? (yes or no)')\n",
    "if not input().lower().startswith('y'):\n",
    "    break"
   ]
  },
  {
   "cell_type": "code",
   "execution_count": null,
   "metadata": {},
   "outputs": [],
   "source": [
    "# def printBoard(board):\n",
    "#     line = ''\n",
    "#     space = 0\n",
    "#     for y in range(0, N):\n",
    "#         for x in range(-N, N*2):\n",
    "#             try:\n",
    "#                 line += Hex[(x, y, -x-y)]\n",
    "#             except:\n",
    "#                 line += '_'\n",
    "        \n",
    "#     return line\n",
    "# printBoard(Hex)"
   ]
  }
 ],
 "metadata": {
  "kernelspec": {
   "display_name": "Python 3",
   "language": "python",
   "name": "python3"
  },
  "language_info": {
   "codemirror_mode": {
    "name": "ipython",
    "version": 3
   },
   "file_extension": ".py",
   "mimetype": "text/x-python",
   "name": "python",
   "nbconvert_exporter": "python",
   "pygments_lexer": "ipython3",
   "version": "3.6.4"
  }
 },
 "nbformat": 4,
 "nbformat_minor": 2
}
